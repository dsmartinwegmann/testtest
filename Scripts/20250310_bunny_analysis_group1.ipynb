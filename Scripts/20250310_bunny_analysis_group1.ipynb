{
  "metadata": {
    "kernelspec": {
      "name": "python",
      "display_name": "Python (Pyodide)",
      "language": "python"
    },
    "language_info": {
      "codemirror_mode": {
        "name": "python",
        "version": 3
      },
      "file_extension": ".py",
      "mimetype": "text/x-python",
      "name": "python",
      "nbconvert_exporter": "python",
      "pygments_lexer": "ipython3",
      "version": "3.8"
    }
  },
  "nbformat_minor": 5,
  "nbformat": 4,
  "cells": [
    {
      "id": "f07ad865-ba1f-489f-96e5-c5e971b60e3e",
      "cell_type": "markdown",
      "source": "# Contact Information",
      "metadata": {}
    },
    {
      "id": "ebe0308d-2497-4eff-9d66-30c3ab8fe1f9",
      "cell_type": "markdown",
      "source": "Author: Martin Wegmann\n\nDate: 10th of March 2025\n\nEmail: martin.wegmann2@unibe.ch\n\nWebsite: www.google.ch",
      "metadata": {}
    },
    {
      "id": "ae53116a-de4e-4a1f-ad59-1885d2acb344",
      "cell_type": "code",
      "source": "from datetime import datetime\nright_now=datetime.today().strftime('%Y-%m-%d')",
      "metadata": {
        "trusted": true
      },
      "outputs": [],
      "execution_count": 10
    },
    {
      "id": "766637e2-c888-45e4-bc6c-0947a060e894",
      "cell_type": "code",
      "source": "print(right_now)",
      "metadata": {
        "trusted": true
      },
      "outputs": [
        {
          "name": "stdout",
          "output_type": "stream",
          "text": "2025-03-10\n"
        }
      ],
      "execution_count": 11
    },
    {
      "id": "1483154e-2275-41b5-ab47-5a27f0fab210",
      "cell_type": "markdown",
      "source": "# Analysis",
      "metadata": {}
    },
    {
      "id": "15a5a3e3-b12f-440d-b87b-463f67fc075e",
      "cell_type": "markdown",
      "source": "## Compute variables",
      "metadata": {}
    },
    {
      "id": "6647b202-9bc1-427a-b97c-ead06999c70c",
      "cell_type": "markdown",
      "source": "In this chapter, we will compute the temperature under the roof of the bunny home\n\nFor this we need:\n\n* a thermometer\n* a bunny home",
      "metadata": {}
    },
    {
      "id": "e9958fc3-3e23-48f4-b363-8b3ddf614eb4",
      "cell_type": "code",
      "source": "temperature=35-12",
      "metadata": {
        "trusted": true
      },
      "outputs": [],
      "execution_count": 4
    },
    {
      "id": "a6fcaa6f-7e29-4fc2-a42e-81be76fdd938",
      "cell_type": "code",
      "source": "temperature",
      "metadata": {
        "trusted": true
      },
      "outputs": [
        {
          "execution_count": 5,
          "output_type": "execute_result",
          "data": {
            "text/plain": "23"
          },
          "metadata": {}
        }
      ],
      "execution_count": 5
    },
    {
      "id": "89a0af1e-2111-46d1-a04c-b245f6e8910c",
      "cell_type": "code",
      "source": "",
      "metadata": {
        "trusted": true
      },
      "outputs": [],
      "execution_count": null
    },
    {
      "id": "1305bd27-8883-42c3-bc42-fe4fa3294390",
      "cell_type": "code",
      "source": "",
      "metadata": {
        "trusted": true
      },
      "outputs": [],
      "execution_count": null
    },
    {
      "id": "5bb68e14-9580-42fa-8774-a127d59be913",
      "cell_type": "code",
      "source": "",
      "metadata": {
        "trusted": true
      },
      "outputs": [],
      "execution_count": null
    }
  ]
}